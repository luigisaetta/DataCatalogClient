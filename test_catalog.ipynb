{
 "cells": [
  {
   "cell_type": "markdown",
   "id": "fleet-subdivision",
   "metadata": {},
   "source": [
    "### Example for the ODSDataCatalog class\n",
    "\n",
    "This is an example of custom integration between OCI **DataCatalog** and **DataScience** Notebooks"
   ]
  },
  {
   "cell_type": "code",
   "execution_count": 1,
   "id": "circular-thomson",
   "metadata": {},
   "outputs": [],
   "source": [
    "import time\n",
    "import ads\n",
    "\n",
    "from utils_Class import ODSDataCatalog"
   ]
  },
  {
   "cell_type": "code",
   "execution_count": 2,
   "id": "adjusted-license",
   "metadata": {},
   "outputs": [],
   "source": [
    "# setting security: using Resource Principal\n",
    "ads.set_auth(auth='resource_principal')"
   ]
  },
  {
   "cell_type": "code",
   "execution_count": 3,
   "id": "separated-ballot",
   "metadata": {},
   "outputs": [],
   "source": [
    "# initialize the class\n",
    "# parms: catalog_id, assett_key, namespace_id\n",
    "ods_data_catalog = ODSDataCatalog(\"ocid1.datacatalog.oc1.eu-frankfurt-1.aaaaaaaap6lel4hqckltn7fvjnux42jepzohdktkceywlyrnnrwgolbupzhq\",\n",
    "                                  \"0e4d60d9-d5b5-467f-89bb-22db63a3ee18\",\n",
    "                                  \"6adf4ea3-67d5-44a3-b4f7-19fbf303d539\")"
   ]
  },
  {
   "cell_type": "code",
   "execution_count": 4,
   "id": "fuzzy-equivalent",
   "metadata": {},
   "outputs": [
    {
     "name": "stdout",
     "output_type": "stream",
     "text": [
      "File hash from Data Catalog is: 0b43cf47b2a1b336991f2d43b16d0c1e\n"
     ]
    }
   ],
   "source": [
    "# getting information from Data Catalog\n",
    "FILE_NAME = \"cs-training-nonull.csv\"\n",
    "\n",
    "# md5 read from Catalog\n",
    "md5_cat = ods_data_catalog.get_hash_from_catalog(FILE_NAME)\n",
    "\n",
    "print('File hash from Data Catalog is:', md5_cat)"
   ]
  },
  {
   "cell_type": "code",
   "execution_count": 5,
   "id": "modified-bleeding",
   "metadata": {},
   "outputs": [
    {
     "data": {
      "application/vnd.jupyter.widget-view+json": {
       "model_id": "",
       "version_major": 2,
       "version_minor": 0
      },
      "text/plain": [
       "HBox(children=(HTML(value='loop1'), FloatProgress(value=0.0, max=4.0), HTML(value='')))"
      ]
     },
     "metadata": {},
     "output_type": "display_data"
    },
    {
     "name": "stdout",
     "output_type": "stream",
     "text": [
      "The dataset contains: 150000 records\n"
     ]
    }
   ],
   "source": [
    "# compute MD5 from file on Object Storage\n",
    "BUCKET_NAME = \"credit_scoring\"\n",
    "\n",
    "md5_computed = ods_data_catalog.get_hash_from_file(FILE_NAME, BUCKET_NAME)"
   ]
  },
  {
   "cell_type": "code",
   "execution_count": 6,
   "id": "corresponding-celebrity",
   "metadata": {},
   "outputs": [
    {
     "name": "stdout",
     "output_type": "stream",
     "text": [
      "Check hash MD5 OK\n"
     ]
    }
   ],
   "source": [
    "# check that MD5 hash is OK\n",
    "assert (md5_cat == md5_computed)\n",
    "\n",
    "print(\"Check hash MD5 OK\")"
   ]
  },
  {
   "cell_type": "code",
   "execution_count": 7,
   "id": "promotional-sydney",
   "metadata": {},
   "outputs": [
    {
     "name": "stdout",
     "output_type": "stream",
     "text": [
      "The file version must be: v1.1\n"
     ]
    }
   ],
   "source": [
    "# check the version, from Data catalog\n",
    "print('The file version must be:', ods_data_catalog.get_version_from_catalog(FILE_NAME))"
   ]
  },
  {
   "cell_type": "code",
   "execution_count": null,
   "id": "excess-textbook",
   "metadata": {},
   "outputs": [],
   "source": []
  }
 ],
 "metadata": {
  "kernelspec": {
   "display_name": "Python [conda env:mlgpuv1]",
   "language": "python",
   "name": "conda-env-mlgpuv1-py"
  },
  "language_info": {
   "codemirror_mode": {
    "name": "ipython",
    "version": 3
   },
   "file_extension": ".py",
   "mimetype": "text/x-python",
   "name": "python",
   "nbconvert_exporter": "python",
   "pygments_lexer": "ipython3",
   "version": "3.6.11"
  }
 },
 "nbformat": 4,
 "nbformat_minor": 5
}
