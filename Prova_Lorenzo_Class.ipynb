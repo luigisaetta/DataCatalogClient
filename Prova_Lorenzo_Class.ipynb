{
 "cells": [
  {
   "cell_type": "markdown",
   "id": "raising-shelf",
   "metadata": {},
   "source": [
    "### OCI Data Science - Useful Tips\n",
    "<details>\n",
    "<summary><font size=\"2\">Check for Public Internet Access</font></summary>\n",
    "\n",
    "```python\n",
    "import requests\n",
    "response = requests.get(\"https://oracle.com\")\n",
    "assert response.status_code==200, \"Internet connection failed\"\n",
    "```\n",
    "</details>\n",
    "<details>\n",
    "<summary><font size=\"2\">Helpful Documentation </font></summary>\n",
    "<ul><li><a href=\"https://docs.cloud.oracle.com/en-us/iaas/data-science/using/data-science.htm\">Data Science Service Documentation</a></li>\n",
    "<li><a href=\"https://docs.cloud.oracle.com/iaas/tools/ads-sdk/latest/index.html\">ADS documentation</a></li>\n",
    "</ul>\n",
    "</details>\n",
    "<details>\n",
    "<summary><font size=\"2\">Typical Cell Imports and Settings for ADS</font></summary>\n",
    "\n",
    "```python\n",
    "%load_ext autoreload\n",
    "%autoreload 2\n",
    "%matplotlib inline\n",
    "\n",
    "import warnings\n",
    "warnings.filterwarnings('ignore')\n",
    "\n",
    "import logging\n",
    "logging.basicConfig(format='%(levelname)s:%(message)s', level=logging.ERROR)\n",
    "\n",
    "import ads\n",
    "from ads.dataset.factory import DatasetFactory\n",
    "from ads.automl.provider import OracleAutoMLProvider\n",
    "from ads.automl.driver import AutoML\n",
    "from ads.evaluations.evaluator import ADSEvaluator\n",
    "from ads.common.data import ADSData\n",
    "from ads.explanations.explainer import ADSExplainer\n",
    "from ads.explanations.mlx_global_explainer import MLXGlobalExplainer\n",
    "from ads.explanations.mlx_local_explainer import MLXLocalExplainer\n",
    "from ads.catalog.model import ModelCatalog\n",
    "from ads.common.model_artifact import ModelArtifact\n",
    "```\n",
    "</details>\n",
    "<details>\n",
    "<summary><font size=\"2\">Useful Environment Variables</font></summary>\n",
    "\n",
    "```python\n",
    "import os\n",
    "print(os.environ[\"NB_SESSION_COMPARTMENT_OCID\"])\n",
    "print(os.environ[\"PROJECT_OCID\"])\n",
    "print(os.environ[\"USER_OCID\"])\n",
    "print(os.environ[\"TENANCY_OCID\"])\n",
    "print(os.environ[\"NB_REGION\"])\n",
    "```\n",
    "</details>"
   ]
  },
  {
   "cell_type": "code",
   "execution_count": 1,
   "id": "emerging-exhaust",
   "metadata": {},
   "outputs": [],
   "source": [
    "import numpy as np\n",
    "import pandas as pd\n",
    "import matplotlib.pyplot as plt\n",
    "import time\n",
    "\n",
    "import torch\n",
    "import pytorch_tabnet\n",
    "\n",
    "from pytorch_tabnet.tab_model import TabNetClassifier\n",
    "from pytorch_tabnet.callbacks import Callback\n",
    "\n",
    "import mlflow\n",
    "\n",
    "from sklearn.preprocessing import LabelEncoder\n",
    "\n",
    "import ads\n",
    "import oci\n",
    "import os\n",
    "import hashlib\n",
    "\n",
    "from ads.dataset.factory import DatasetFactory\n",
    "\n",
    "from utils_Class import ODSDataCatalog"
   ]
  },
  {
   "cell_type": "code",
   "execution_count": 2,
   "id": "japanese-semester",
   "metadata": {},
   "outputs": [
    {
     "name": "stdout",
     "output_type": "stream",
     "text": [
      "Help on class ODSDataCatalog in module utils_Copy1:\n",
      "\n",
      "class ODSDataCatalog(builtins.object)\n",
      " |  Methods defined here:\n",
      " |  \n",
      " |  __init__(self, catalog_id, asset_key, namespace_id, bucket_name)\n",
      " |      Initialize self.  See help(type(self)) for accurate signature.\n",
      " |  \n",
      " |  get_hash_from_catalog(self, name)\n",
      " |  \n",
      " |  get_hash_from_file(self, FILE_NAME)\n",
      " |  \n",
      " |  get_key_from_name(self, name)\n",
      " |  \n",
      " |  ----------------------------------------------------------------------\n",
      " |  Data descriptors defined here:\n",
      " |  \n",
      " |  __dict__\n",
      " |      dictionary for instance variables (if defined)\n",
      " |  \n",
      " |  __weakref__\n",
      " |      list of weak references to the object (if defined)\n",
      "\n"
     ]
    }
   ],
   "source": [
    "help(ODSDataCatalog)"
   ]
  },
  {
   "cell_type": "code",
   "execution_count": 3,
   "id": "binary-determination",
   "metadata": {},
   "outputs": [],
   "source": [
    "# setting security: using Resource Principal\n",
    "ads.set_auth(auth='resource_principal')\n",
    "\n",
    "rps = oci.auth.signers.get_resource_principals_signer()\n",
    "dcat_client = oci.data_catalog.DataCatalogClient({}, signer=rps)"
   ]
  },
  {
   "cell_type": "code",
   "execution_count": 4,
   "id": "familiar-drove",
   "metadata": {},
   "outputs": [],
   "source": [
    "catalogo = ODSDataCatalog(\"ocid1.datacatalog.oc1.eu-frankfurt-1.aaaaaaaap6lel4hqckltn7fvjnux42jepzohdktkceywlyrnnrwgolbupzhq\"\n",
    "                         ,\"6adf4ea3-67d5-44a3-b4f7-19fbf303d539\",\"0e4d60d9-d5b5-467f-89bb-22db63a3ee18\"\n",
    "                         ,\"credit_scoring\")"
   ]
  },
  {
   "cell_type": "code",
   "execution_count": 5,
   "id": "plain-utilization",
   "metadata": {},
   "outputs": [
    {
     "name": "stdout",
     "output_type": "stream",
     "text": [
      "File hash from Data Catalog is: 0b43cf47b2a1b336991f2d43b16d0c1e\n"
     ]
    },
    {
     "data": {
      "application/vnd.jupyter.widget-view+json": {
       "model_id": "",
       "version_major": 2,
       "version_minor": 0
      },
      "text/plain": [
       "HBox(children=(HTML(value='loop1'), FloatProgress(value=0.0, max=4.0), HTML(value='')))"
      ]
     },
     "metadata": {},
     "output_type": "display_data"
    },
    {
     "name": "stdout",
     "output_type": "stream",
     "text": [
      "The dataset contains: 150000 records\n",
      "\n",
      "MD5 hash of the file is:  0b43cf47b2a1b336991f2d43b16d0c1e\n",
      "MD5 hash check OK\n"
     ]
    }
   ],
   "source": [
    "# getting information from Data Catalog\n",
    "FILE_NAME = \"cs-training-nonull.csv\"\n",
    "\n",
    "# md5 read from Catalog\n",
    "md5_cat = catalogo.get_hash_from_catalog(name=FILE_NAME)\n",
    "\n",
    "print('File hash from Data Catalog is:', md5_cat)\n",
    "\n",
    "# md5 computation\n",
    "md5_computed = catalogo.get_hash_from_file(FILE_NAME=FILE_NAME)\n",
    "print()\n",
    "print('MD5 hash of the file is: ', md5_computed)\n",
    "\n",
    "assert (md5_computed == md5_cat)\n",
    "print(\"MD5 hash check OK\")"
   ]
  }
 ],
 "metadata": {
  "kernelspec": {
   "display_name": "Python [conda env:generalmachinelearningforcpusv2]",
   "language": "python",
   "name": "conda-env-generalmachinelearningforcpusv2-py"
  },
  "language_info": {
   "codemirror_mode": {
    "name": "ipython",
    "version": 3
   },
   "file_extension": ".py",
   "mimetype": "text/x-python",
   "name": "python",
   "nbconvert_exporter": "python",
   "pygments_lexer": "ipython3",
   "version": "3.6.11"
  }
 },
 "nbformat": 4,
 "nbformat_minor": 5
}
