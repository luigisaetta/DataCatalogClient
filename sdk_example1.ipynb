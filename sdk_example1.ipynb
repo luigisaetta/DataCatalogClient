{
 "cells": [
  {
   "cell_type": "markdown",
   "id": "53dc29bf",
   "metadata": {},
   "source": [
    "### Esempio di utilizzo per Python OCI SDK per accedere al Data Catalog\n",
    "\n",
    "* per semplicità e per scrivere codice migliore utilizzo funzioni definite in utils_Class.py\n",
    "* l'esempio mostra come leggere una **custom property** di un Data Entity dal Catalog usando il **Python SDK**"
   ]
  },
  {
   "cell_type": "code",
   "execution_count": 1,
   "id": "d9bd8ce0",
   "metadata": {},
   "outputs": [],
   "source": [
    "import ads\n",
    "\n",
    "from utils_Class import ODSDataCatalog"
   ]
  },
  {
   "cell_type": "code",
   "execution_count": 2,
   "id": "305dc24c",
   "metadata": {},
   "outputs": [
    {
     "name": "stdout",
     "output_type": "stream",
     "text": [
      "2.3.1\n"
     ]
    }
   ],
   "source": [
    "print(ads.__version__)"
   ]
  },
  {
   "cell_type": "code",
   "execution_count": 3,
   "id": "db011a0b",
   "metadata": {},
   "outputs": [],
   "source": [
    "# setting security: using Resource Principal security\n",
    "\n",
    "ads.set_auth(auth='resource_principal')"
   ]
  },
  {
   "cell_type": "code",
   "execution_count": 4,
   "id": "7f55d21e",
   "metadata": {},
   "outputs": [],
   "source": [
    "# constants\n",
    "SOGEI_CATALOG_ID = \"ocid1.datacatalog.oc1.eu-frankfurt-1.amaaaaaa7ratcziasoho7dhml7xnlzgv6lhjmc3xpo4a7mwz6mqfq5pgzeeq\"\n",
    "\n",
    "# normally it is the default namespace in the DataCatalog\n",
    "# unless a custom namespace in dataCatalog has been defined and used\n",
    "NAMESPACE_ID = \"0e4d60d9-d5b5-467f-89bb-22db63a3ee18\"\n",
    "\n",
    "MY_ASSETT_KEY = \"81f98fed-a97b-4310-8065-11ca93f408e1\""
   ]
  },
  {
   "cell_type": "code",
   "execution_count": 5,
   "id": "834adc80",
   "metadata": {},
   "outputs": [],
   "source": [
    "# initialize the class defined in utils_Class\n",
    "# parms: catalog_id, namespace_id, assett_key\n",
    "\n",
    "ods_data_catalog = ODSDataCatalog(SOGEI_CATALOG_ID, NAMESPACE_ID, MY_ASSETT_KEY)"
   ]
  },
  {
   "cell_type": "code",
   "execution_count": 6,
   "id": "3b634e3e",
   "metadata": {},
   "outputs": [
    {
     "name": "stdout",
     "output_type": "stream",
     "text": [
      "The list of entities is:\n",
      "\n",
      "anagrafica1.csv\n",
      "dipartimenti.csv\n",
      "eta.csv\n",
      "CPU times: user 846 ms, sys: 17 ms, total: 863 ms\n",
      "Wall time: 1.13 s\n"
     ]
    }
   ],
   "source": [
    "%%time\n",
    "\n",
    "ods_data_catalog.print_entity_name_list()"
   ]
  },
  {
   "cell_type": "code",
   "execution_count": 7,
   "id": "1e451b2d",
   "metadata": {},
   "outputs": [
    {
     "name": "stdout",
     "output_type": "stream",
     "text": [
      "dipartimenti.csv\n",
      "-------\n",
      "{\n",
      "  \"business_name\": null,\n",
      "  \"data_asset_key\": \"81f98fed-a97b-4310-8065-11ca93f408e1\",\n",
      "  \"description\": null,\n",
      "  \"display_name\": \"dipartimenti.csv\",\n",
      "  \"external_key\": \"https://swiftobjectstorage.eu-frankfurt-1.oraclecloud.com/v1/emeaseitalyproxima/hr-sogei/dipartimenti.csv\",\n",
      "  \"folder_key\": \"138bac43-c88e-4173-ab5f-aa2b7a0049cd\",\n",
      "  \"folder_name\": \"hr-sogei\",\n",
      "  \"key\": \"742678a0-fdf7-4c30-8e28-ba0cf770f2bd\",\n",
      "  \"lifecycle_state\": \"ACTIVE\",\n",
      "  \"path\": \"os_data_assett/hr-sogei\",\n",
      "  \"pattern_key\": null,\n",
      "  \"realized_expression\": null,\n",
      "  \"time_created\": \"2021-09-08T13:26:26.396000+00:00\",\n",
      "  \"time_updated\": \"2021-09-09T11:58:44.566000+00:00\",\n",
      "  \"type_key\": \"6402f0cb-74dc-4d35-94d0-a506fd8a5d15\",\n",
      "  \"updated_by_id\": \"ocid1.saml2idp.oc1..aaaaaaaa4aslcv7sd4fsgtys3ettl2yjhhy6hq4rudpabtofnrqykskaerwa/luigi.saetta@oracle.com\",\n",
      "  \"uri\": \"/dcat/20190325/dataAssets/81f98fed-a97b-4310-8065-11ca93f408e1/entities/742678a0-fdf7-4c30-8e28-ba0cf770f2bd\"\n",
      "}\n",
      "eta.csv\n",
      "-------\n",
      "{\n",
      "  \"business_name\": \"eta\",\n",
      "  \"data_asset_key\": \"81f98fed-a97b-4310-8065-11ca93f408e1\",\n",
      "  \"description\": null,\n",
      "  \"display_name\": \"eta.csv\",\n",
      "  \"external_key\": \"https://swiftobjectstorage.eu-frankfurt-1.oraclecloud.com/v1/emeaseitalyproxima/hr-sogei/eta.csv\",\n",
      "  \"folder_key\": \"138bac43-c88e-4173-ab5f-aa2b7a0049cd\",\n",
      "  \"folder_name\": \"hr-sogei\",\n",
      "  \"key\": \"0326ddeb-b50e-4760-9ae2-41ccb99b9171\",\n",
      "  \"lifecycle_state\": \"ACTIVE\",\n",
      "  \"path\": \"os_data_assett/hr-sogei\",\n",
      "  \"pattern_key\": null,\n",
      "  \"realized_expression\": null,\n",
      "  \"time_created\": \"2021-07-21T08:54:38.387000+00:00\",\n",
      "  \"time_updated\": \"2021-09-08T13:09:33.611000+00:00\",\n",
      "  \"type_key\": \"6402f0cb-74dc-4d35-94d0-a506fd8a5d15\",\n",
      "  \"updated_by_id\": \"ocid1.saml2idp.oc1..aaaaaaaa4aslcv7sd4fsgtys3ettl2yjhhy6hq4rudpabtofnrqykskaerwa/luigi.saetta@oracle.com\",\n",
      "  \"uri\": \"/dcat/20190325/dataAssets/81f98fed-a97b-4310-8065-11ca93f408e1/entities/0326ddeb-b50e-4760-9ae2-41ccb99b9171\"\n",
      "}\n",
      "anagrafica1.csv\n",
      "-------\n",
      "{\n",
      "  \"business_name\": \"anagrafica1\",\n",
      "  \"data_asset_key\": \"81f98fed-a97b-4310-8065-11ca93f408e1\",\n",
      "  \"description\": null,\n",
      "  \"display_name\": \"anagrafica1.csv\",\n",
      "  \"external_key\": \"https://swiftobjectstorage.eu-frankfurt-1.oraclecloud.com/v1/emeaseitalyproxima/hr-sogei/anagrafica1.csv\",\n",
      "  \"folder_key\": \"138bac43-c88e-4173-ab5f-aa2b7a0049cd\",\n",
      "  \"folder_name\": \"hr-sogei\",\n",
      "  \"key\": \"d640cc64-b32d-4e9f-bb38-f5b66474b472\",\n",
      "  \"lifecycle_state\": \"ACTIVE\",\n",
      "  \"path\": \"os_data_assett/hr-sogei\",\n",
      "  \"pattern_key\": null,\n",
      "  \"realized_expression\": null,\n",
      "  \"time_created\": \"2021-07-21T08:45:04.205000+00:00\",\n",
      "  \"time_updated\": \"2021-09-09T12:38:01.935000+00:00\",\n",
      "  \"type_key\": \"6402f0cb-74dc-4d35-94d0-a506fd8a5d15\",\n",
      "  \"updated_by_id\": \"ocid1.saml2idp.oc1..aaaaaaaa4aslcv7sd4fsgtys3ettl2yjhhy6hq4rudpabtofnrqykskaerwa/luigi.saetta@oracle.com\",\n",
      "  \"uri\": \"/dcat/20190325/dataAssets/81f98fed-a97b-4310-8065-11ca93f408e1/entities/d640cc64-b32d-4e9f-bb38-f5b66474b472\"\n",
      "}\n"
     ]
    }
   ],
   "source": [
    "ods_data_catalog.print_entity_list_raw()"
   ]
  },
  {
   "cell_type": "code",
   "execution_count": 8,
   "id": "dcbd70af",
   "metadata": {},
   "outputs": [
    {
     "name": "stdout",
     "output_type": "stream",
     "text": [
      "d640cc64-b32d-4e9f-bb38-f5b66474b472\n"
     ]
    }
   ],
   "source": [
    "key = ods_data_catalog.get_key_from_name(\"anagrafica1.csv\")\n",
    "\n",
    "print(key)"
   ]
  },
  {
   "cell_type": "code",
   "execution_count": 9,
   "id": "7b505130",
   "metadata": {},
   "outputs": [
    {
     "name": "stdout",
     "output_type": "stream",
     "text": [
      "Owner of: anagrafica1.csv is: domenico\n"
     ]
    }
   ],
   "source": [
    "ENTITY_NAME = \"anagrafica1.csv\"\n",
    "\n",
    "owner = ods_data_catalog.get_owner(ENTITY_NAME)\n",
    "\n",
    "print('Owner of:', ENTITY_NAME, 'is:', owner)"
   ]
  },
  {
   "cell_type": "code",
   "execution_count": null,
   "id": "b43b754c",
   "metadata": {},
   "outputs": [],
   "source": []
  }
 ],
 "metadata": {
  "kernelspec": {
   "display_name": "Python [conda env:tensorflow26_p37_cpu_v1]",
   "language": "python",
   "name": "conda-env-tensorflow26_p37_cpu_v1-py"
  },
  "language_info": {
   "codemirror_mode": {
    "name": "ipython",
    "version": 3
   },
   "file_extension": ".py",
   "mimetype": "text/x-python",
   "name": "python",
   "nbconvert_exporter": "python",
   "pygments_lexer": "ipython3",
   "version": "3.7.10"
  }
 },
 "nbformat": 4,
 "nbformat_minor": 5
}
