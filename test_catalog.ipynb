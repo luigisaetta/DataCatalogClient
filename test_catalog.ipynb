{
 "cells": [
  {
   "cell_type": "markdown",
   "id": "monthly-laptop",
   "metadata": {},
   "source": [
    "### OCI Data Science - Useful Tips\n",
    "<details>\n",
    "<summary><font size=\"2\">Check for Public Internet Access</font></summary>\n",
    "\n",
    "```python\n",
    "import requests\n",
    "response = requests.get(\"https://oracle.com\")\n",
    "assert response.status_code==200, \"Internet connection failed\"\n",
    "```\n",
    "</details>\n",
    "<details>\n",
    "<summary><font size=\"2\">Helpful Documentation </font></summary>\n",
    "<ul><li><a href=\"https://docs.cloud.oracle.com/en-us/iaas/data-science/using/data-science.htm\">Data Science Service Documentation</a></li>\n",
    "<li><a href=\"https://docs.cloud.oracle.com/iaas/tools/ads-sdk/latest/index.html\">ADS documentation</a></li>\n",
    "</ul>\n",
    "</details>\n",
    "<details>\n",
    "<summary><font size=\"2\">Typical Cell Imports and Settings for ADS</font></summary>\n",
    "\n",
    "```python\n",
    "%load_ext autoreload\n",
    "%autoreload 2\n",
    "%matplotlib inline\n",
    "\n",
    "import warnings\n",
    "warnings.filterwarnings('ignore')\n",
    "\n",
    "import logging\n",
    "logging.basicConfig(format='%(levelname)s:%(message)s', level=logging.ERROR)\n",
    "\n",
    "import ads\n",
    "from ads.dataset.factory import DatasetFactory\n",
    "from ads.automl.provider import OracleAutoMLProvider\n",
    "from ads.automl.driver import AutoML\n",
    "from ads.evaluations.evaluator import ADSEvaluator\n",
    "from ads.common.data import ADSData\n",
    "from ads.explanations.explainer import ADSExplainer\n",
    "from ads.explanations.mlx_global_explainer import MLXGlobalExplainer\n",
    "from ads.explanations.mlx_local_explainer import MLXLocalExplainer\n",
    "from ads.catalog.model import ModelCatalog\n",
    "from ads.common.model_artifact import ModelArtifact\n",
    "```\n",
    "</details>\n",
    "<details>\n",
    "<summary><font size=\"2\">Useful Environment Variables</font></summary>\n",
    "\n",
    "```python\n",
    "import os\n",
    "print(os.environ[\"NB_SESSION_COMPARTMENT_OCID\"])\n",
    "print(os.environ[\"PROJECT_OCID\"])\n",
    "print(os.environ[\"USER_OCID\"])\n",
    "print(os.environ[\"TENANCY_OCID\"])\n",
    "print(os.environ[\"NB_REGION\"])\n",
    "```\n",
    "</details>"
   ]
  },
  {
   "cell_type": "code",
   "execution_count": 1,
   "id": "promising-ensemble",
   "metadata": {},
   "outputs": [],
   "source": [
    "import time\n",
    "\n",
    "import ads\n",
    "import oci\n",
    "import os\n",
    "import hashlib\n",
    "\n",
    "from ads.dataset.factory import DatasetFactory\n",
    "\n",
    "from utils import get_hash_from_catalog, list_entities"
   ]
  },
  {
   "cell_type": "code",
   "execution_count": 2,
   "id": "liberal-supplier",
   "metadata": {},
   "outputs": [],
   "source": [
    "# setting security: using Resource Principal\n",
    "ads.set_auth(auth='resource_principal')"
   ]
  },
  {
   "cell_type": "code",
   "execution_count": 3,
   "id": "sufficient-proportion",
   "metadata": {},
   "outputs": [
    {
     "name": "stdout",
     "output_type": "stream",
     "text": [
      "File hash from Data Catalog is: 0b43cf47b2a1b336991f2d43b16d0c1e\n"
     ]
    }
   ],
   "source": [
    "# getting information from Data Catalog\n",
    "FILE_NAME = \"cs-training-nonull.csv\"\n",
    "\n",
    "# md5 read from Catalog\n",
    "md5_cat = get_hash_from_catalog(FILE_NAME)\n",
    "\n",
    "print('File hash from Data Catalog is:', md5_cat)"
   ]
  },
  {
   "cell_type": "code",
   "execution_count": null,
   "id": "informational-midwest",
   "metadata": {},
   "outputs": [],
   "source": [
    "list_entities()"
   ]
  },
  {
   "cell_type": "code",
   "execution_count": null,
   "id": "spatial-chuck",
   "metadata": {},
   "outputs": [],
   "source": []
  }
 ],
 "metadata": {
  "kernelspec": {
   "display_name": "Python [conda env:mlgpuv1]",
   "language": "python",
   "name": "conda-env-mlgpuv1-py"
  },
  "language_info": {
   "codemirror_mode": {
    "name": "ipython",
    "version": 3
   },
   "file_extension": ".py",
   "mimetype": "text/x-python",
   "name": "python",
   "nbconvert_exporter": "python",
   "pygments_lexer": "ipython3",
   "version": "3.6.11"
  }
 },
 "nbformat": 4,
 "nbformat_minor": 5
}
