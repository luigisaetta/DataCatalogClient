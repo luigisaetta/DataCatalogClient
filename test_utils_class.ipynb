{
 "cells": [
  {
   "cell_type": "markdown",
   "id": "coastal-stranger",
   "metadata": {},
   "source": [
    "### OCI Data Science - Useful Tips\n",
    "<details>\n",
    "<summary><font size=\"2\">Check for Public Internet Access</font></summary>\n",
    "\n",
    "```python\n",
    "import requests\n",
    "response = requests.get(\"https://oracle.com\")\n",
    "assert response.status_code==200, \"Internet connection failed\"\n",
    "```\n",
    "</details>\n",
    "<details>\n",
    "<summary><font size=\"2\">Helpful Documentation </font></summary>\n",
    "<ul><li><a href=\"https://docs.cloud.oracle.com/en-us/iaas/data-science/using/data-science.htm\">Data Science Service Documentation</a></li>\n",
    "<li><a href=\"https://docs.cloud.oracle.com/iaas/tools/ads-sdk/latest/index.html\">ADS documentation</a></li>\n",
    "</ul>\n",
    "</details>\n",
    "<details>\n",
    "<summary><font size=\"2\">Typical Cell Imports and Settings for ADS</font></summary>\n",
    "\n",
    "```python\n",
    "%load_ext autoreload\n",
    "%autoreload 2\n",
    "%matplotlib inline\n",
    "\n",
    "import warnings\n",
    "warnings.filterwarnings('ignore')\n",
    "\n",
    "import logging\n",
    "logging.basicConfig(format='%(levelname)s:%(message)s', level=logging.ERROR)\n",
    "\n",
    "import ads\n",
    "from ads.dataset.factory import DatasetFactory\n",
    "from ads.automl.provider import OracleAutoMLProvider\n",
    "from ads.automl.driver import AutoML\n",
    "from ads.evaluations.evaluator import ADSEvaluator\n",
    "from ads.common.data import ADSData\n",
    "from ads.explanations.explainer import ADSExplainer\n",
    "from ads.explanations.mlx_global_explainer import MLXGlobalExplainer\n",
    "from ads.explanations.mlx_local_explainer import MLXLocalExplainer\n",
    "from ads.catalog.model import ModelCatalog\n",
    "from ads.common.model_artifact import ModelArtifact\n",
    "```\n",
    "</details>\n",
    "<details>\n",
    "<summary><font size=\"2\">Useful Environment Variables</font></summary>\n",
    "\n",
    "```python\n",
    "import os\n",
    "print(os.environ[\"NB_SESSION_COMPARTMENT_OCID\"])\n",
    "print(os.environ[\"PROJECT_OCID\"])\n",
    "print(os.environ[\"USER_OCID\"])\n",
    "print(os.environ[\"TENANCY_OCID\"])\n",
    "print(os.environ[\"NB_REGION\"])\n",
    "```\n",
    "</details>"
   ]
  },
  {
   "cell_type": "code",
   "execution_count": 1,
   "id": "worst-forest",
   "metadata": {},
   "outputs": [],
   "source": [
    "import ads\n",
    "import oci\n",
    "import os\n",
    "import hashlib\n",
    "\n",
    "from ads.dataset.factory import DatasetFactory\n",
    "\n",
    "from utils_Class import ODSDataCatalog"
   ]
  },
  {
   "cell_type": "code",
   "execution_count": 2,
   "id": "prescribed-contract",
   "metadata": {},
   "outputs": [],
   "source": [
    "# setting security: using Resource Principal\n",
    "ads.set_auth(auth='resource_principal')"
   ]
  },
  {
   "cell_type": "code",
   "execution_count": 3,
   "id": "vertical-portrait",
   "metadata": {},
   "outputs": [],
   "source": [
    "# define the data catalog object the user wants to access, in this format: Catalog ID, Asset Key, Namespace ID\n",
    "catalog = ODSDataCatalog(\"ocid1.datacatalog.oc1.eu-frankfurt-1.aaaaaaaap6lel4hqckltn7fvjnux42jepzohdktkceywlyrnnrwgolbupzhq\"\n",
    "                         , \"0e4d60d9-d5b5-467f-89bb-22db63a3ee18\", \"6adf4ea3-67d5-44a3-b4f7-19fbf303d539\")"
   ]
  },
  {
   "cell_type": "markdown",
   "id": "labeled-suffering",
   "metadata": {},
   "source": [
    "#### Get hash code from the file in the data catalog and compare it with the actual hash code of the file in the Object Storage"
   ]
  },
  {
   "cell_type": "code",
   "execution_count": null,
   "id": "compact-panama",
   "metadata": {},
   "outputs": [],
   "source": [
    "# define the file the user wants to analyze\n",
    "file_name = \"cs-training-nonull.csv\"\n",
    "\n",
    "# md5 read from Catalog\n",
    "try:                                               #try to use the function \n",
    "    hash_value = catalog.get_hash_from_catalog(name=file_name)\n",
    "    print()\n",
    "    print('File hash from Data Catalog is:', hash_value)\n",
    "except ValueError:                                 #exception occurs if the function can't find the key name\n",
    "    print('\\033[1m'+'There is no such file in this Data catalog!'+'\\033[0m')"
   ]
  },
  {
   "cell_type": "code",
   "execution_count": null,
   "id": "tight-canberra",
   "metadata": {},
   "outputs": [],
   "source": [
    "file_name = \"cs-training-nonull.csv\"\n",
    "bucket = \"credit_scoring\"\n",
    "\n",
    "# compute md5 from the file in the Object Storage\n",
    "md5_comput = catalog.get_hash_from_file(file_name, bucket)\n",
    "print()\n",
    "print('MD5 hash of the file is: ', md5_comput)\n",
    "\n",
    "try:\n",
    "    assert (md5_comput == hash_value)\n",
    "    print(\"MD5 hash check OK\")\n",
    "except AssertionError:\n",
    "    print('MD5 hash check failed')"
   ]
  },
  {
   "cell_type": "markdown",
   "id": "hundred-bibliography",
   "metadata": {},
   "source": [
    "#### Get version number from the file in the data catalog"
   ]
  },
  {
   "cell_type": "code",
   "execution_count": null,
   "id": "figured-amateur",
   "metadata": {},
   "outputs": [],
   "source": [
    "# define the file the user wants to analyze\n",
    "file_name = \"cs-training.csv\"\n",
    "\n",
    "# version read from Catalog\n",
    "try:                                                 #try to use the function \n",
    "    version_number = catalog.get_version_from_catalog(name=file_name)\n",
    "    print()\n",
    "    print('Version Number from Data Catalog is:', version_number)\n",
    "except ValueError:                                   #exception occurs if the function can't find the file in the data catalog\n",
    "    print('\\033[1m'+'There is no such file in this Data catalog!'+'\\033[0m')\n"
   ]
  },
  {
   "cell_type": "code",
   "execution_count": null,
   "id": "floating-cleaner",
   "metadata": {},
   "outputs": [],
   "source": []
  }
 ],
 "metadata": {
  "kernelspec": {
   "display_name": "Python [conda env:generalmachinelearningforcpusv2]",
   "language": "python",
   "name": "conda-env-generalmachinelearningforcpusv2-py"
  },
  "language_info": {
   "codemirror_mode": {
    "name": "ipython",
    "version": 3
   },
   "file_extension": ".py",
   "mimetype": "text/x-python",
   "name": "python",
   "nbconvert_exporter": "python",
   "pygments_lexer": "ipython3",
   "version": "3.6.11"
  }
 },
 "nbformat": 4,
 "nbformat_minor": 5
}
